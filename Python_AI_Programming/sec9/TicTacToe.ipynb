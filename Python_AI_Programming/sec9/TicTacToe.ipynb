{
 "cells": [
  {
   "cell_type": "code",
   "execution_count": 1,
   "metadata": {},
   "outputs": [],
   "source": [
    "from easyAI import TwoPlayersGame, Human_Player, AI_Player, Negamax\n",
    "from easyAI.Player import Human_Player"
   ]
  },
  {
   "cell_type": "code",
   "execution_count": 2,
   "metadata": {},
   "outputs": [],
   "source": [
    "class GameController(TwoPlayersGame): \n",
    "    def __init__(self, players): \n",
    "        self.players = players \n",
    "        self.nplayer = 1 \n",
    "        self.board = [0] * 9 \n",
    "\n",
    "    def possible_moves(self): \n",
    "        return [a + 1 for a, b in enumerate(self.board) if b == 0] \n",
    "\n",
    "    def make_move(self, move): \n",
    "        self.board[int(move) - 1] = self.nplayer \n",
    "\n",
    "    def loss_condition(self): \n",
    "        possible_combinations = [[1,2,3], \n",
    "                                 [4,5,6], \n",
    "                                 [7,8,9], \n",
    "                                 [1,4,7], \n",
    "                                 [2,5,8], \n",
    "                                 [3,6,9], \n",
    "                                 [1,5,9], \n",
    "                                 [3,5,7]] \n",
    "        return any([all([(self.board[i-1] == self.nopponent) for i in combination]) for combination in possible_combinations]) \n",
    "\n",
    "    def is_over(self): \n",
    "        return (self.possible_moves() == []) or self.loss_condition() \n",
    "\n",
    "    def show(self): \n",
    "        print('\\n'+'\\n'.join([' '.join([['.', 'O', 'X'][self.board[3*j + i]]  for i in range(3)]) for j in range(3)])) \n",
    "\n",
    "    def scoring(self): \n",
    "        return -100 if self.loss_condition() else 0 \n"
   ]
  },
  {
   "cell_type": "code",
   "execution_count": 3,
   "metadata": {},
   "outputs": [],
   "source": [
    "algorithm = Negamax(7)"
   ]
  },
  {
   "cell_type": "code",
   "execution_count": 4,
   "metadata": {},
   "outputs": [
    {
     "name": "stdout",
     "output_type": "stream",
     "text": [
      "<class 'easyAI.AI.Negamax.Negamax'>\n"
     ]
    }
   ],
   "source": [
    "print(type(algorithm))"
   ]
  },
  {
   "cell_type": "code",
   "execution_count": 5,
   "metadata": {},
   "outputs": [],
   "source": [
    "game = GameController([Human_Player(), AI_Player(algorithm)])"
   ]
  },
  {
   "cell_type": "code",
   "execution_count": 6,
   "metadata": {},
   "outputs": [
    {
     "name": "stdout",
     "output_type": "stream",
     "text": [
      "<class '__main__.GameController'>\n"
     ]
    }
   ],
   "source": [
    "print(type(game))"
   ]
  },
  {
   "cell_type": "code",
   "execution_count": 7,
   "metadata": {},
   "outputs": [
    {
     "name": "stdout",
     "output_type": "stream",
     "text": [
      "\n",
      ". . .\n",
      ". . .\n",
      ". . .\n",
      "\n",
      "Player 1 what do you play ? 5\n",
      "\n",
      "Move #1: player 1 plays 5 :\n",
      "\n",
      ". . .\n",
      ". O .\n",
      ". . .\n",
      "\n",
      "Move #2: player 2 plays 1 :\n",
      "\n",
      "X . .\n",
      ". O .\n",
      ". . .\n",
      "\n",
      "Player 1 what do you play ? 9\n",
      "\n",
      "Move #3: player 1 plays 9 :\n",
      "\n",
      "X . .\n",
      ". O .\n",
      ". . O\n",
      "\n",
      "Move #4: player 2 plays 3 :\n",
      "\n",
      "X . X\n",
      ". O .\n",
      ". . O\n",
      "\n",
      "Player 1 what do you play ? 2\n",
      "\n",
      "Move #5: player 1 plays 2 :\n",
      "\n",
      "X O X\n",
      ". O .\n",
      ". . O\n",
      "\n",
      "Move #6: player 2 plays 8 :\n",
      "\n",
      "X O X\n",
      ". O .\n",
      ". X O\n",
      "\n",
      "Player 1 what do you play ? 4\n",
      "\n",
      "Move #7: player 1 plays 4 :\n",
      "\n",
      "X O X\n",
      "O O .\n",
      ". X O\n",
      "\n",
      "Move #8: player 2 plays 6 :\n",
      "\n",
      "X O X\n",
      "O O X\n",
      ". X O\n",
      "\n",
      "Player 1 what do you play ? 7\n",
      "\n",
      "Move #9: player 1 plays 7 :\n",
      "\n",
      "X O X\n",
      "O O X\n",
      "O X O\n"
     ]
    },
    {
     "data": {
      "text/plain": [
       "[(<__main__.GameController at 0x14d174d7f48>, 5),\n",
       " (<__main__.GameController at 0x14d17504b48>, 1),\n",
       " (<__main__.GameController at 0x14d174ffd08>, 9),\n",
       " (<__main__.GameController at 0x14d174ea5c8>, 3),\n",
       " (<__main__.GameController at 0x14d175037c8>, 2),\n",
       " (<__main__.GameController at 0x14d1749fb48>, 8),\n",
       " (<__main__.GameController at 0x14d174ff8c8>, 4),\n",
       " (<__main__.GameController at 0x14d17507f08>, 6),\n",
       " (<__main__.GameController at 0x14d174f9708>, 7),\n",
       " <__main__.GameController at 0x14d17507748>]"
      ]
     },
     "execution_count": 7,
     "metadata": {},
     "output_type": "execute_result"
    }
   ],
   "source": [
    "game.play()"
   ]
  },
  {
   "cell_type": "code",
   "execution_count": null,
   "metadata": {},
   "outputs": [],
   "source": []
  }
 ],
 "metadata": {
  "kernelspec": {
   "display_name": "Python 3",
   "language": "python",
   "name": "python3"
  },
  "language_info": {
   "codemirror_mode": {
    "name": "ipython",
    "version": 3
   },
   "file_extension": ".py",
   "mimetype": "text/x-python",
   "name": "python",
   "nbconvert_exporter": "python",
   "pygments_lexer": "ipython3",
   "version": "3.7.6"
  }
 },
 "nbformat": 4,
 "nbformat_minor": 4
}
